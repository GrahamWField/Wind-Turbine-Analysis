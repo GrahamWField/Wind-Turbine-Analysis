{
 "cells": [
  {
   "cell_type": "markdown",
   "id": "5166cdf9",
   "metadata": {},
   "source": [
    "# Geospatial Analysis"
   ]
  },
  {
   "cell_type": "markdown",
   "id": "e618ae75",
   "metadata": {},
   "source": [
    "### import the libraries and data"
   ]
  },
  {
   "cell_type": "markdown",
   "id": "37d73257",
   "metadata": {},
   "source": [
    "Import the libraires"
   ]
  },
  {
   "cell_type": "code",
   "execution_count": null,
   "id": "e804bac3",
   "metadata": {},
   "outputs": [],
   "source": [
    "!pip install folium geopandas\n",
    "import pandas as pd\n",
    "import numpy as np\n",
    "import os\n",
    "import matplotlib.pyplot as plt\n",
    "from matplotlib.ticker import ScalarFormatter\n",
    "import seaborn as sns\n",
    "import scipy\n",
    "import matplotlib.ticker as ticker\n",
    "import folium\n",
    "from folium.plugins import HeatMap\n",
    "import json\n",
    "import geopandas as gpd"
   ]
  },
  {
   "cell_type": "markdown",
   "id": "d36d3d5e",
   "metadata": {},
   "source": [
    "##### the source for the json file is: https://github.com/isellsoap/deutschlandGeoJSON/blob/main/2_bundeslaender/1_sehr_hoch.geo.json"
   ]
  },
  {
   "cell_type": "code",
   "execution_count": null,
   "id": "b14ccf41",
   "metadata": {},
   "outputs": [],
   "source": [
    "states = r'C:\\Users\\graha\\Desktop\\Career foundry\\Chapter 6\\Wind Turbine Scada\\02 Data\\Prepared Data\\de.geo.json'"
   ]
  },
  {
   "cell_type": "code",
   "execution_count": null,
   "id": "4e5de1f3",
   "metadata": {
    "scrolled": false
   },
   "outputs": [],
   "source": [
    "states"
   ]
  },
  {
   "cell_type": "code",
   "execution_count": null,
   "id": "9ef33d67",
   "metadata": {},
   "outputs": [],
   "source": [
    "#creating the path\n",
    "path = r'C:\\Users\\graha\\Desktop\\Career foundry\\Chapter 6\\Wind Turbine Scada'"
   ]
  },
  {
   "cell_type": "code",
   "execution_count": null,
   "id": "30da3e15",
   "metadata": {},
   "outputs": [],
   "source": [
    "#Loading the Data Frame\n",
    "df_gwt = pd.read_csv(os.path.join(path, '02 Data', 'Prepared Data', 'German_wind_turbines_cleaned.csv'))"
   ]
  },
  {
   "cell_type": "code",
   "execution_count": null,
   "id": "d2dc0ac6",
   "metadata": {},
   "outputs": [],
   "source": [
    "df_gwt.head()"
   ]
  },
  {
   "cell_type": "markdown",
   "id": "8cce354b",
   "metadata": {},
   "source": [
    "# Data Wrangling"
   ]
  },
  {
   "cell_type": "markdown",
   "id": "dd10e2a4",
   "metadata": {},
   "source": [
    "viewing the companies"
   ]
  },
  {
   "cell_type": "code",
   "execution_count": null,
   "id": "b326dc6c",
   "metadata": {
    "scrolled": true
   },
   "outputs": [],
   "source": [
    "df_gwt.columns"
   ]
  },
  {
   "cell_type": "code",
   "execution_count": null,
   "id": "86a20714",
   "metadata": {},
   "outputs": [],
   "source": [
    "manufacturer = df_gwt['Manufacturer'].value_counts()"
   ]
  },
  {
   "cell_type": "code",
   "execution_count": null,
   "id": "1be43ed4",
   "metadata": {},
   "outputs": [],
   "source": [
    "manufacturer.head"
   ]
  },
  {
   "cell_type": "markdown",
   "id": "4f7a6a48",
   "metadata": {},
   "source": [
    "Creating a subset of the top 10 manufacturers"
   ]
  },
  {
   "cell_type": "code",
   "execution_count": null,
   "id": "d3439201",
   "metadata": {},
   "outputs": [],
   "source": [
    "top_10_manu = df_gwt['Manufacturer'].value_counts().head(10)"
   ]
  },
  {
   "cell_type": "code",
   "execution_count": null,
   "id": "9498e807",
   "metadata": {
    "scrolled": true
   },
   "outputs": [],
   "source": [
    "top_10_manu.head"
   ]
  },
  {
   "cell_type": "markdown",
   "id": "ceaaa46e",
   "metadata": {},
   "source": [
    "Viewing the States"
   ]
  },
  {
   "cell_type": "markdown",
   "id": "7748b1c5",
   "metadata": {},
   "source": [
    "# Consistency Checks"
   ]
  },
  {
   "cell_type": "code",
   "execution_count": null,
   "id": "23e43b3b",
   "metadata": {},
   "outputs": [],
   "source": [
    "top_10_manu.isnull().sum()"
   ]
  },
  {
   "cell_type": "code",
   "execution_count": null,
   "id": "0bea0528",
   "metadata": {},
   "outputs": [],
   "source": [
    "manu_dups = top_10_manu.duplicated()"
   ]
  },
  {
   "cell_type": "code",
   "execution_count": null,
   "id": "aee0eeaf",
   "metadata": {},
   "outputs": [],
   "source": [
    "manu_dups.shape"
   ]
  },
  {
   "cell_type": "code",
   "execution_count": null,
   "id": "7fbb13e6",
   "metadata": {},
   "outputs": [],
   "source": [
    "top_10_manu.info"
   ]
  },
  {
   "cell_type": "code",
   "execution_count": null,
   "id": "a5ed7e80",
   "metadata": {},
   "outputs": [],
   "source": [
    "top_10_manu.describe()"
   ]
  },
  {
   "cell_type": "code",
   "execution_count": null,
   "id": "d24384ce",
   "metadata": {},
   "outputs": [],
   "source": [
    "top_10_manu.dtypes"
   ]
  },
  {
   "cell_type": "markdown",
   "id": "56ae715f",
   "metadata": {},
   "source": [
    "# Plotting the visualisations"
   ]
  },
  {
   "cell_type": "markdown",
   "id": "eb06d4f5",
   "metadata": {},
   "source": [
    "Creating the Index"
   ]
  },
  {
   "cell_type": "code",
   "execution_count": null,
   "id": "c66d431f",
   "metadata": {},
   "outputs": [],
   "source": [
    "states_i = df_gwt['State'].value_counts().reset_index()"
   ]
  },
  {
   "cell_type": "code",
   "execution_count": null,
   "id": "491e3341",
   "metadata": {},
   "outputs": [],
   "source": [
    "states_i.columns = ['State','top_10_manu']"
   ]
  },
  {
   "cell_type": "code",
   "execution_count": null,
   "id": "d335b1c1",
   "metadata": {
    "scrolled": true
   },
   "outputs": [],
   "source": [
    "states_i.head(17)"
   ]
  },
  {
   "cell_type": "code",
   "execution_count": null,
   "id": "88447c2c",
   "metadata": {},
   "outputs": [],
   "source": [
    "# setting folium map\n",
    "map01 = folium.Map(location=[51.1657, 10.4515], zoom_start=5)\n",
    "\n",
    "# choropleth\n",
    "folium.Choropleth(\n",
    "    geo_data=states,\n",
    "    data=states_i,\n",
    "    columns=['State', 'top_10_manu'],\n",
    "    key_on='feature.properties.name',\n",
    "    fill_color='BuPu',\n",
    "    fill_opacity=0.7,\n",
    "    line_opacity=0.2,\n",
    "    legend_name='sum of Top 10 manufacturer by state'\n",
    ").add_to(map01)\n",
    "\n",
    "# Display the map\n",
    "map01"
   ]
  },
  {
   "cell_type": "code",
   "execution_count": null,
   "id": "1d97fc8e",
   "metadata": {},
   "outputs": [],
   "source": [
    "# Define custom marker icons with different colors for each manufacturer\n",
    "icon_colors = {\n",
    "    'ENERCON GmbH': 'blue',  # Set color for ENERCON GmbH\n",
    "    # Add more manufacturers and corresponding colors as needed\n",
    "}\n",
    "\n",
    "# Setting folium map\n",
    "map02 = folium.Map(location=[51.1657, 10.4515], zoom_start=5)\n",
    "\n",
    "# Choropleth\n",
    "folium.Choropleth(\n",
    "    geo_data=states,\n",
    "    data=states_i,\n",
    "    columns=['State', 'top_10_manu'],\n",
    "    key_on='feature.properties.name',\n",
    "    fill_color='BuPu',\n",
    "    fill_opacity=0.7,\n",
    "    line_opacity=0.2,\n",
    "    legend_name='Enercon Wind Turbine Locations'\n",
    ").add_to(map02)\n",
    "\n",
    "# Add markers for each data point where the manufacturer is 'ENERCON GmbH'\n",
    "for index, row in df_gwt[df_gwt['Manufacturer'] == 'ENERCON GmbH'].iterrows():\n",
    "    # Check if Latitude and Longitude are not NaN\n",
    "    if not pd.isna(row['Latitude']) and not pd.isna(row['Longitude']):\n",
    "        # Get the color for the marker based on the manufacturer\n",
    "        color = icon_colors.get(row['Manufacturer'], 'gray')  # Default to gray if manufacturer not found\n",
    "        \n",
    "        # Create a marker with custom icon\n",
    "        folium.Marker([row['Latitude'], row['Longitude']], \n",
    "                      popup=row['Name of Windpark'],\n",
    "                      icon=folium.Icon(color=color)).add_to(map02)\n",
    "\n",
    "# Display the map\n",
    "map02"
   ]
  },
  {
   "cell_type": "code",
   "execution_count": null,
   "id": "f787b245",
   "metadata": {},
   "outputs": [],
   "source": [
    "# Define custom marker icons with different colors for each manufacturer\n",
    "icon_colors = {\n",
    "    'Vestas Deutschland GmbH': 'green',  # Set color for Vestas Deutschland GmbH\n",
    "    # Add more manufacturers and corresponding colors as needed\n",
    "}\n",
    "\n",
    "# Setting folium map\n",
    "map03 = folium.Map(location=[51.1657, 10.4515], zoom_start=5)\n",
    "\n",
    "# Choropleth\n",
    "folium.Choropleth(\n",
    "    geo_data=states,\n",
    "    data=states_i,\n",
    "    columns=['State', 'top_10_manu'],\n",
    "    key_on='feature.properties.name',\n",
    "    fill_color='BuPu',\n",
    "    fill_opacity=0.7,\n",
    "    line_opacity=0.2,\n",
    "    legend_name='Vestas Wind Turbine Locations'\n",
    ").add_to(map03)\n",
    "\n",
    "# Add markers for each data point where the manufacturer is 'Vestas Deutschland GmbH'\n",
    "for index, row in df_gwt[df_gwt['Manufacturer'] == 'Vestas Deutschland GmbH'].iterrows():\n",
    "    # Check if Latitude and Longitude are not NaN\n",
    "    if not pd.isna(row['Latitude']) and not pd.isna(row['Longitude']):\n",
    "        # Get the color for the marker based on the manufacturer\n",
    "        color = icon_colors.get(row['Manufacturer'], 'gray')  # Default to gray if manufacturer not found\n",
    "        \n",
    "        # Create a marker with custom icon\n",
    "        folium.Marker([row['Latitude'], row['Longitude']], \n",
    "                      popup=row['Name of Windpark'],\n",
    "                      icon=folium.Icon(color=color)).add_to(map03)\n",
    "\n",
    "# Display the map\n",
    "map03"
   ]
  },
  {
   "cell_type": "code",
   "execution_count": null,
   "id": "6b0e8f41",
   "metadata": {},
   "outputs": [],
   "source": [
    "# Define custom marker icons with different colors for each manufacturer\n",
    "icon_colors = {\n",
    "    'Siemens Wind Power GmbH & Co. KG': 'orange',  # Set color for Siemens Wind Power GmbH & Co. KG\n",
    "    # Add more manufacturers and corresponding colors as needed\n",
    "}\n",
    "\n",
    "# Setting folium map\n",
    "map04 = folium.Map(location=[51.1657, 10.4515], zoom_start=5)\n",
    "\n",
    "# Choropleth\n",
    "folium.Choropleth(\n",
    "    geo_data=states,\n",
    "    data=states_i,\n",
    "    columns=['State', 'top_10_manu'],\n",
    "    key_on='feature.properties.name',\n",
    "    fill_color='BuPu',\n",
    "    fill_opacity=0.7,\n",
    "    line_opacity=0.2,\n",
    "    legend_name='Siemens Wind Turbine Locations'\n",
    ").add_to(map04)\n",
    "\n",
    "# Add markers for each data point where the manufacturer is 'Siemens Wind Power GmbH & Co. KG'\n",
    "for index, row in df_gwt[df_gwt['Manufacturer'] == 'Siemens Wind Power GmbH & Co. KG'].iterrows():\n",
    "    # Check if Latitude and Longitude are not NaN\n",
    "    if not pd.isna(row['Latitude']) and not pd.isna(row['Longitude']):\n",
    "        # Get the color for the marker based on the manufacturer\n",
    "        color = icon_colors.get(row['Manufacturer'], 'gray')  # Default to gray if manufacturer not found\n",
    "        \n",
    "        # Create a marker with custom icon\n",
    "        folium.Marker([row['Latitude'], row['Longitude']], \n",
    "                      popup=row['Name of Windpark'],\n",
    "                      icon=folium.Icon(color=color)).add_to(map04)\n",
    "\n",
    "# Display the map\n",
    "map04"
   ]
  },
  {
   "cell_type": "code",
   "execution_count": null,
   "id": "0a594322",
   "metadata": {},
   "outputs": [],
   "source": [
    "# Create a folium map\n",
    "heatmap_map = folium.Map(location=[51.1657, 10.4515], zoom_start=5)\n",
    "\n",
    "# Generate heat map layer\n",
    "heat_data = df_gwt[['Latitude', 'Longitude', 'Gross Performance']].dropna().values.tolist()\n",
    "\n",
    "# Add heat map layer to the folium map\n",
    "HeatMap(heat_data, radius=10).add_to(heatmap_map)\n",
    "\n",
    "# Display the map\n",
    "heatmap_map"
   ]
  },
  {
   "cell_type": "markdown",
   "id": "9b3496c1",
   "metadata": {},
   "source": [
    "# Conclusion\n",
    "\n",
    "### Top 10 Manufacturers by State\n",
    "\n",
    "From the previous analytic steps we can see and confirm that the top 3 states are Niedersachsen, Schleswig-Holstein, and Brandenburg. We also have the offshore sector which actually comes in second if we consider it as a state\n",
    "\n",
    "##### Enercon Locations\n",
    "\n",
    "Given that Enercon has so many smaller installations it's no surprise that we see such a densely populated Choropleth. We notice that Enercon does not have any offshore windparks which is interesting.\n",
    "\n",
    "##### Vestas Locations\n",
    "\n",
    "Vestas has a mix of sizes at their locations. We see that they have very good land coverage but they also have offshore installations. They are very well spread across the country and surrounding sea.\n",
    "\n",
    "##### Siemens Locations\n",
    "\n",
    "Siemens has by far the fewest locations which corresponds with our previous analytical steps. They have a few massive installations however it seems their main business is building these windparks offshore. \n"
   ]
  },
  {
   "cell_type": "markdown",
   "id": "45c8d1fc",
   "metadata": {},
   "source": [
    "# Further Research\n",
    "\n",
    "It would be nice if we could include meteorological data so we could see where the highest and most consistent sites are for wind turbines and compare that to the current infrastructure.\n",
    "\n",
    "Combining the two and then conducting a time series analysis to see how or if the weather patterns change would be an interesting theory to test.\n"
   ]
  },
  {
   "cell_type": "code",
   "execution_count": null,
   "id": "05576d56",
   "metadata": {},
   "outputs": [],
   "source": []
  }
 ],
 "metadata": {
  "kernelspec": {
   "display_name": "Python 3 (ipykernel)",
   "language": "python",
   "name": "python3"
  },
  "language_info": {
   "codemirror_mode": {
    "name": "ipython",
    "version": 3
   },
   "file_extension": ".py",
   "mimetype": "text/x-python",
   "name": "python",
   "nbconvert_exporter": "python",
   "pygments_lexer": "ipython3",
   "version": "3.11.5"
  }
 },
 "nbformat": 4,
 "nbformat_minor": 5
}
